{
 "cells": [
  {
   "cell_type": "markdown",
   "id": "e2134463-399d-4ae6-b9dc-61682d222320",
   "metadata": {},
   "source": [
    "Here we try to simulate proteoform mixtures as discussed during the Lorentz center conference on Computational Proteomics."
   ]
  },
  {
   "cell_type": "markdown",
   "id": "4831de78-ba1d-433b-9183-f3085d5ecd74",
   "metadata": {},
   "source": [
    "A simulations only including 2 proteoforms.  \n",
    "First some constants. "
   ]
  },
  {
   "cell_type": "code",
   "execution_count": 26,
   "id": "1221dedd-2787-4599-b6a4-ef2b0263eb11",
   "metadata": {},
   "outputs": [],
   "source": [
    "number_of_replicates = 3\n",
    "number_of_conditions = 2\n",
    "number_of_shared_peptides = 3\n",
    "number_of_uniq_peptides_per_proteoform = 5\n",
    "number_of_peptides = number_of_uniq_peptides_per_proteoform*2 + number_of_shared_peptides"
   ]
  },
  {
   "cell_type": "markdown",
   "id": "410a0551-45b0-4952-ab62-708a5897e8f4",
   "metadata": {},
   "source": [
    "Also we define the proteoform concentrations for each condition"
   ]
  },
  {
   "cell_type": "code",
   "execution_count": 27,
   "id": "247708aa-9010-40b8-beab-78ef4a0fddfd",
   "metadata": {},
   "outputs": [],
   "source": [
    "prot1_per_condition = [1.0, 1.0] # A, B\n",
    "prot2_per_condition = [0.1, 10.0]"
   ]
  },
  {
   "cell_type": "markdown",
   "id": "711b94bd-2747-4882-a663-573a1d8d33be",
   "metadata": {},
   "source": [
    "Each peptide will have a ionization efficency that we assume is log-normal distributed."
   ]
  },
  {
   "cell_type": "code",
   "execution_count": 28,
   "id": "a666a5b0-2d9f-4a27-aaf6-0aa0376edf75",
   "metadata": {},
   "outputs": [],
   "source": [
    "ionization_mu, ionization_sigma = 3., 5."
   ]
  },
  {
   "cell_type": "markdown",
   "id": "53bb680d-3dc0-49a6-9cd6-7a1a0e7e952e",
   "metadata": {},
   "source": [
    "Here we introduce a noise model, which adds normal distributed noise with a standard deviation proportional to the signal, but with a minimal stdv."
   ]
  },
  {
   "cell_type": "code",
   "execution_count": 29,
   "id": "29583c74-2ae0-4e72-9686-d89538d798d4",
   "metadata": {},
   "outputs": [],
   "source": [
    "import numpy as np\n",
    "\n",
    "noise_proportionality = 0.2\n",
    "noise_min = 0.1\n",
    "\n",
    "rng = np.random.default_rng()\n",
    "\n",
    "def add_noise(raw):\n",
    "    stdv = max(noise_min, raw * noise_proportionality)\n",
    "    noise = rng.normal(0., stdv)\n",
    "    return abs(raw + noise) # guard ourseves from negative values\n",
    "    \n",
    "add_noise_v = np.vectorize(add_noise)"
   ]
  },
  {
   "cell_type": "markdown",
   "id": "d093f789-5b91-4e85-9a52-66cecfd79377",
   "metadata": {},
   "source": [
    "Given these constraints we can now simulate peptide concentrations."
   ]
  },
  {
   "cell_type": "code",
   "execution_count": 30,
   "id": "000d4a32-f303-472d-bae8-b10494da0b9a",
   "metadata": {},
   "outputs": [],
   "source": [
    "peptide_conc_A = np.asarray([prot1_per_condition[0]]*number_of_uniq_peptides_per_proteoform + \\\n",
    "                 [prot1_per_condition[0]+prot2_per_condition[0]]*number_of_shared_peptides + \\\n",
    "                 [prot2_per_condition[0]]*number_of_uniq_peptides_per_proteoform)\n",
    "\n",
    "peptide_conc_B = np.asarray([prot1_per_condition[1]]*number_of_uniq_peptides_per_proteoform + \\\n",
    "                 [prot1_per_condition[1]+prot2_per_condition[1]]*number_of_shared_peptides + \\\n",
    "                 [prot2_per_condition[1]]*number_of_uniq_peptides_per_proteoform)\n",
    "\n",
    "peptide_conc = np.vstack((np.tile(peptide_conc_A, (number_of_replicates, 1)),\\\n",
    "                          np.tile(peptide_conc_B, (number_of_replicates, 1))))\n"
   ]
  },
  {
   "cell_type": "markdown",
   "id": "6e5e260f-a41b-42d6-8a7f-a6626348d860",
   "metadata": {},
   "source": [
    "And then we apply ionization efficency and noise"
   ]
  },
  {
   "cell_type": "code",
   "execution_count": 31,
   "id": "f74d1361-b488-4f5e-b29e-580db13b62fc",
   "metadata": {},
   "outputs": [],
   "source": [
    "ionization = rng.lognormal(ionization_mu, ionization_sigma, number_of_peptides)\n",
    "peptide_abundance_raw = np.multiply(ionization,peptide_conc)\n",
    "peptide_abundance = add_noise_v(peptide_abundance_raw)"
   ]
  },
  {
   "cell_type": "code",
   "execution_count": 32,
   "id": "5b17ad2d-4053-4076-a672-ce600f16744a",
   "metadata": {},
   "outputs": [
    {
     "data": {
      "text/plain": [
       "<AxesSubplot:>"
      ]
     },
     "execution_count": 32,
     "metadata": {},
     "output_type": "execute_result"
    },
    {
     "data": {
      "image/png": "[encoded data removed]",
      "text/plain": [
       "<Figure size 432x288 with 2 Axes>"
      ]
     },
     "metadata": {},
     "output_type": "display_data"
    }
   ],
   "source": [
    "import seaborn as sns; sns.set_theme()\n",
    "sns.heatmap(np.log(peptide_abundance.T))\n"
   ]
  },
  {
   "cell_type": "code",
   "execution_count": null,
   "id": "a3a01880-3c77-4a0e-aec3-4cca6ac48d40",
   "metadata": {},
   "outputs": [],
   "source": []
  }
 ],
 "metadata": {
  "kernelspec": {
   "display_name": "Python 3 (ipykernel)",
   "language": "python",
   "name": "python3"
  },
  "language_info": {
   "codemirror_mode": {
    "name": "ipython",
    "version": 3
   },
   "file_extension": ".py",
   "mimetype": "text/x-python",
   "name": "python",
   "nbconvert_exporter": "python",
   "pygments_lexer": "ipython3",
   "version": "3.10.4"
  }
 },
 "nbformat": 4,
 "nbformat_minor": 5
}
